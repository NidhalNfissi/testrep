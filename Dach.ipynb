{
    "cells": [
        {
            "cell_type": "code",
            "execution_count": 21,
            "id": "96de7179",
            "metadata": {},
            "outputs": [
                {
                    "name": "stdout",
                    "output_type": "stream",
                    "text": "Requirement already satisfied: dash in c:\\users\\nidha\\anaconda3\\lib\\site-packages (1.19.0)\nRequirement already satisfied: flask-compress in c:\\users\\nidha\\anaconda3\\lib\\site-packages (from dash) (1.13)\nRequirement already satisfied: dash-renderer==1.9.0 in c:\\users\\nidha\\anaconda3\\lib\\site-packages (from dash) (1.9.0)\nRequirement already satisfied: Flask>=1.0.4 in c:\\users\\nidha\\anaconda3\\lib\\site-packages (from dash) (1.1.2)\nRequirement already satisfied: future in c:\\users\\nidha\\anaconda3\\lib\\site-packages (from dash) (0.18.2)\nRequirement already satisfied: dash-core-components==1.15.0 in c:\\users\\nidha\\anaconda3\\lib\\site-packages (from dash) (1.15.0)\nRequirement already satisfied: plotly in c:\\users\\nidha\\anaconda3\\lib\\site-packages (from dash) (5.14.1)\nRequirement already satisfied: dash-html-components==1.1.2 in c:\\users\\nidha\\anaconda3\\lib\\site-packages (from dash) (1.1.2)\nRequirement already satisfied: dash-table==4.11.2 in c:\\users\\nidha\\anaconda3\\lib\\site-packages (from dash) (4.11.2)\nRequirement already satisfied: itsdangerous>=0.24 in c:\\users\\nidha\\anaconda3\\lib\\site-packages (from Flask>=1.0.4->dash) (2.0.1)\nRequirement already satisfied: Jinja2>=2.10.1 in c:\\users\\nidha\\anaconda3\\lib\\site-packages (from Flask>=1.0.4->dash) (2.11.3)\nRequirement already satisfied: Werkzeug>=0.15 in c:\\users\\nidha\\anaconda3\\lib\\site-packages (from Flask>=1.0.4->dash) (2.0.3)\nRequirement already satisfied: click>=5.1 in c:\\users\\nidha\\anaconda3\\lib\\site-packages (from Flask>=1.0.4->dash) (8.0.4)\nRequirement already satisfied: brotli in c:\\users\\nidha\\anaconda3\\lib\\site-packages (from flask-compress->dash) (1.0.9)\nRequirement already satisfied: tenacity>=6.2.0 in c:\\users\\nidha\\anaconda3\\lib\\site-packages (from plotly->dash) (8.0.1)\nRequirement already satisfied: packaging in c:\\users\\nidha\\anaconda3\\lib\\site-packages (from plotly->dash) (21.3)\nRequirement already satisfied: colorama in c:\\users\\nidha\\anaconda3\\lib\\site-packages (from click>=5.1->Flask>=1.0.4->dash) (0.4.5)\nRequirement already satisfied: MarkupSafe>=0.23 in c:\\users\\nidha\\anaconda3\\lib\\site-packages (from Jinja2>=2.10.1->Flask>=1.0.4->dash) (2.0.1)\nRequirement already satisfied: pyparsing!=3.0.5,>=2.0.2 in c:\\users\\nidha\\anaconda3\\lib\\site-packages (from packaging->plotly->dash) (3.0.9)\nRequirement already satisfied: dash==1.19.0 in c:\\users\\nidha\\anaconda3\\lib\\site-packages (1.19.0)\nRequirement already satisfied: dash-renderer==1.9.0 in c:\\users\\nidha\\anaconda3\\lib\\site-packages (from dash==1.19.0) (1.9.0)\nRequirement already satisfied: plotly in c:\\users\\nidha\\anaconda3\\lib\\site-packages (from dash==1.19.0) (5.14.1)\nRequirement already satisfied: dash-table==4.11.2 in c:\\users\\nidha\\anaconda3\\lib\\site-packages (from dash==1.19.0) (4.11.2)\nRequirement already satisfied: dash-core-components==1.15.0 in c:\\users\\nidha\\anaconda3\\lib\\site-packages (from dash==1.19.0) (1.15.0)\nRequirement already satisfied: dash-html-components==1.1.2 in c:\\users\\nidha\\anaconda3\\lib\\site-packages (from dash==1.19.0) (1.1.2)\nRequirement already satisfied: flask-compress in c:\\users\\nidha\\anaconda3\\lib\\site-packages (from dash==1.19.0) (1.13)\nRequirement already satisfied: future in c:\\users\\nidha\\anaconda3\\lib\\site-packages (from dash==1.19.0) (0.18.2)\nRequirement already satisfied: Flask>=1.0.4 in c:\\users\\nidha\\anaconda3\\lib\\site-packages (from dash==1.19.0) (1.1.2)\nRequirement already satisfied: itsdangerous>=0.24 in c:\\users\\nidha\\anaconda3\\lib\\site-packages (from Flask>=1.0.4->dash==1.19.0) (2.0.1)\nRequirement already satisfied: Jinja2>=2.10.1 in c:\\users\\nidha\\anaconda3\\lib\\site-packages (from Flask>=1.0.4->dash==1.19.0) (2.11.3)\nRequirement already satisfied: click>=5.1 in c:\\users\\nidha\\anaconda3\\lib\\site-packages (from Flask>=1.0.4->dash==1.19.0) (8.0.4)\nRequirement already satisfied: Werkzeug>=0.15 in c:\\users\\nidha\\anaconda3\\lib\\site-packages (from Flask>=1.0.4->dash==1.19.0) (2.0.3)\nRequirement already satisfied: brotli in c:\\users\\nidha\\anaconda3\\lib\\site-packages (from flask-compress->dash==1.19.0) (1.0.9)\nRequirement already satisfied: tenacity>=6.2.0 in c:\\users\\nidha\\anaconda3\\lib\\site-packages (from plotly->dash==1.19.0) (8.0.1)\nRequirement already satisfied: packaging in c:\\users\\nidha\\anaconda3\\lib\\site-packages (from plotly->dash==1.19.0) (21.3)\nRequirement already satisfied: colorama in c:\\users\\nidha\\anaconda3\\lib\\site-packages (from click>=5.1->Flask>=1.0.4->dash==1.19.0) (0.4.5)\nRequirement already satisfied: MarkupSafe>=0.23 in c:\\users\\nidha\\anaconda3\\lib\\site-packages (from Jinja2>=2.10.1->Flask>=1.0.4->dash==1.19.0) (2.0.1)\nRequirement already satisfied: pyparsing!=3.0.5,>=2.0.2 in c:\\users\\nidha\\anaconda3\\lib\\site-packages (from packaging->plotly->dash==1.19.0) (3.0.9)\nRequirement already satisfied: jupyter_dash in c:\\users\\nidha\\anaconda3\\lib\\site-packages (0.4.2)\nRequirement already satisfied: ipython in c:\\users\\nidha\\anaconda3\\lib\\site-packages (from jupyter_dash) (7.31.1)\nRequirement already satisfied: ansi2html in c:\\users\\nidha\\anaconda3\\lib\\site-packages (from jupyter_dash) (1.8.0)\nRequirement already satisfied: requests in c:\\users\\nidha\\anaconda3\\lib\\site-packages (from jupyter_dash) (2.26.0)\nRequirement already satisfied: nest-asyncio in c:\\users\\nidha\\anaconda3\\lib\\site-packages (from jupyter_dash) (1.5.5)\nRequirement already satisfied: dash in c:\\users\\nidha\\anaconda3\\lib\\site-packages (from jupyter_dash) (1.19.0)\nRequirement already satisfied: flask in c:\\users\\nidha\\anaconda3\\lib\\site-packages (from jupyter_dash) (1.1.2)\nRequirement already satisfied: retrying in c:\\users\\nidha\\anaconda3\\lib\\site-packages (from jupyter_dash) (1.3.4)\nRequirement already satisfied: ipykernel in c:\\users\\nidha\\anaconda3\\lib\\site-packages (from jupyter_dash) (6.15.2)\nRequirement already satisfied: plotly in c:\\users\\nidha\\anaconda3\\lib\\site-packages (from dash->jupyter_dash) (5.14.1)\nRequirement already satisfied: future in c:\\users\\nidha\\anaconda3\\lib\\site-packages (from dash->jupyter_dash) (0.18.2)\nRequirement already satisfied: dash-html-components==1.1.2 in c:\\users\\nidha\\anaconda3\\lib\\site-packages (from dash->jupyter_dash) (1.1.2)\nRequirement already satisfied: flask-compress in c:\\users\\nidha\\anaconda3\\lib\\site-packages (from dash->jupyter_dash) (1.13)\nRequirement already satisfied: dash-core-components==1.15.0 in c:\\users\\nidha\\anaconda3\\lib\\site-packages (from dash->jupyter_dash) (1.15.0)\nRequirement already satisfied: dash-renderer==1.9.0 in c:\\users\\nidha\\anaconda3\\lib\\site-packages (from dash->jupyter_dash) (1.9.0)\nRequirement already satisfied: dash-table==4.11.2 in c:\\users\\nidha\\anaconda3\\lib\\site-packages (from dash->jupyter_dash) (4.11.2)\nRequirement already satisfied: itsdangerous>=0.24 in c:\\users\\nidha\\anaconda3\\lib\\site-packages (from flask->jupyter_dash) (2.0.1)\nRequirement already satisfied: Jinja2>=2.10.1 in c:\\users\\nidha\\anaconda3\\lib\\site-packages (from flask->jupyter_dash) (2.11.3)\nRequirement already satisfied: Werkzeug>=0.15 in c:\\users\\nidha\\anaconda3\\lib\\site-packages (from flask->jupyter_dash) (2.0.3)\nRequirement already satisfied: click>=5.1 in c:\\users\\nidha\\anaconda3\\lib\\site-packages (from flask->jupyter_dash) (8.0.4)\nRequirement already satisfied: psutil in c:\\users\\nidha\\anaconda3\\lib\\site-packages (from ipykernel->jupyter_dash) (5.9.0)\nRequirement already satisfied: jupyter-client>=6.1.12 in c:\\users\\nidha\\anaconda3\\lib\\site-packages (from ipykernel->jupyter_dash) (7.3.4)\nRequirement already satisfied: packaging in c:\\users\\nidha\\anaconda3\\lib\\site-packages (from ipykernel->jupyter_dash) (21.3)\nRequirement already satisfied: debugpy>=1.0 in c:\\users\\nidha\\anaconda3\\lib\\site-packages (from ipykernel->jupyter_dash) (1.5.1)\nRequirement already satisfied: tornado>=6.1 in c:\\users\\nidha\\anaconda3\\lib\\site-packages (from ipykernel->jupyter_dash) (6.1)\nRequirement already satisfied: matplotlib-inline>=0.1 in c:\\users\\nidha\\anaconda3\\lib\\site-packages (from ipykernel->jupyter_dash) (0.1.6)\nRequirement already satisfied: pyzmq>=17 in c:\\users\\nidha\\anaconda3\\lib\\site-packages (from ipykernel->jupyter_dash) (23.2.0)\nRequirement already satisfied: traitlets>=5.1.0 in c:\\users\\nidha\\anaconda3\\lib\\site-packages (from ipykernel->jupyter_dash) (5.9.0)\nRequirement already satisfied: pygments in c:\\users\\nidha\\anaconda3\\lib\\site-packages (from ipython->jupyter_dash) (2.11.2)\nRequirement already satisfied: backcall in c:\\users\\nidha\\anaconda3\\lib\\site-packages (from ipython->jupyter_dash) (0.2.0)\nRequirement already satisfied: jedi>=0.16 in c:\\users\\nidha\\anaconda3\\lib\\site-packages (from ipython->jupyter_dash) (0.18.1)\nRequirement already satisfied: prompt-toolkit!=3.0.0,!=3.0.1,<3.1.0,>=2.0.0 in c:\\users\\nidha\\anaconda3\\lib\\site-packages (from ipython->jupyter_dash) (3.0.20)\nRequirement already satisfied: colorama in c:\\users\\nidha\\anaconda3\\lib\\site-packages (from ipython->jupyter_dash) (0.4.5)\nRequirement already satisfied: decorator in c:\\users\\nidha\\anaconda3\\lib\\site-packages (from ipython->jupyter_dash) (5.1.1)\nRequirement already satisfied: setuptools>=18.5 in c:\\users\\nidha\\anaconda3\\lib\\site-packages (from ipython->jupyter_dash) (63.4.1)\nRequirement already satisfied: pickleshare in c:\\users\\nidha\\anaconda3\\lib\\site-packages (from ipython->jupyter_dash) (0.7.5)\nRequirement already satisfied: idna<4,>=2.5 in c:\\users\\nidha\\anaconda3\\lib\\site-packages (from requests->jupyter_dash) (3.3)\nRequirement already satisfied: urllib3<1.27,>=1.21.1 in c:\\users\\nidha\\anaconda3\\lib\\site-packages (from requests->jupyter_dash) (1.26.11)\nRequirement already satisfied: charset-normalizer~=2.0.0 in c:\\users\\nidha\\anaconda3\\lib\\site-packages (from requests->jupyter_dash) (2.0.4)\nRequirement already satisfied: certifi>=2017.4.17 in c:\\users\\nidha\\anaconda3\\lib\\site-packages (from requests->jupyter_dash) (2022.12.7)\nRequirement already satisfied: six>=1.7.0 in c:\\users\\nidha\\anaconda3\\lib\\site-packages (from retrying->jupyter_dash) (1.16.0)\nRequirement already satisfied: parso<0.9.0,>=0.8.0 in c:\\users\\nidha\\anaconda3\\lib\\site-packages (from jedi>=0.16->ipython->jupyter_dash) (0.8.3)\nRequirement already satisfied: MarkupSafe>=0.23 in c:\\users\\nidha\\anaconda3\\lib\\site-packages (from Jinja2>=2.10.1->flask->jupyter_dash) (2.0.1)\nRequirement already satisfied: jupyter-core>=4.9.2 in c:\\users\\nidha\\anaconda3\\lib\\site-packages (from jupyter-client>=6.1.12->ipykernel->jupyter_dash) (5.3.0)\nRequirement already satisfied: entrypoints in c:\\users\\nidha\\anaconda3\\lib\\site-packages (from jupyter-client>=6.1.12->ipykernel->jupyter_dash) (0.4)\nRequirement already satisfied: python-dateutil>=2.8.2 in c:\\users\\nidha\\anaconda3\\lib\\site-packages (from jupyter-client>=6.1.12->ipykernel->jupyter_dash) (2.8.2)\nRequirement already satisfied: wcwidth in c:\\users\\nidha\\anaconda3\\lib\\site-packages (from prompt-toolkit!=3.0.0,!=3.0.1,<3.1.0,>=2.0.0->ipython->jupyter_dash) (0.2.5)\nRequirement already satisfied: brotli in c:\\users\\nidha\\anaconda3\\lib\\site-packages (from flask-compress->dash->jupyter_dash) (1.0.9)\nRequirement already satisfied: pyparsing!=3.0.5,>=2.0.2 in c:\\users\\nidha\\anaconda3\\lib\\site-packages (from packaging->ipykernel->jupyter_dash) (3.0.9)\nRequirement already satisfied: tenacity>=6.2.0 in c:\\users\\nidha\\anaconda3\\lib\\site-packages (from plotly->dash->jupyter_dash) (8.0.1)\nRequirement already satisfied: platformdirs>=2.5 in c:\\users\\nidha\\anaconda3\\lib\\site-packages (from jupyter-core>=4.9.2->jupyter-client>=6.1.12->ipykernel->jupyter_dash) (3.3.0)\nRequirement already satisfied: pywin32>=300 in c:\\users\\nidha\\anaconda3\\lib\\site-packages (from jupyter-core>=4.9.2->jupyter-client>=6.1.12->ipykernel->jupyter_dash) (306)\nRequirement already satisfied: plotly in c:\\users\\nidha\\anaconda3\\lib\\site-packages (5.14.1)\nRequirement already satisfied: tenacity>=6.2.0 in c:\\users\\nidha\\anaconda3\\lib\\site-packages (from plotly) (8.0.1)\nRequirement already satisfied: packaging in c:\\users\\nidha\\anaconda3\\lib\\site-packages (from plotly) (21.3)\nRequirement already satisfied: pyparsing!=3.0.5,>=2.0.2 in c:\\users\\nidha\\anaconda3\\lib\\site-packages (from packaging->plotly) (3.0.9)\n"
                }
            ],
            "source": "!pip install dash\n!pip install dash==1.19.0\n!pip install jupyter_dash\n!pip install --upgrade plotly"
        },
        {
            "cell_type": "code",
            "execution_count": 22,
            "id": "c0c5723c",
            "metadata": {},
            "outputs": [],
            "source": "from jupyter_dash.comms import _send_jupyter_config_comm_request\n_send_jupyter_config_comm_request()"
        },
        {
            "cell_type": "code",
            "execution_count": 23,
            "id": "6130aa26",
            "metadata": {},
            "outputs": [],
            "source": "import pandas as pd\nimport dash\nimport dash_html_components as html\nimport dash_core_components as dcc\nfrom dash.dependencies import Input, Output\nfrom jupyter_dash import JupyterDash\nimport plotly.graph_objects as go\nimport plotly.express as px"
        },
        {
            "cell_type": "code",
            "execution_count": 24,
            "id": "cd6f80a8",
            "metadata": {},
            "outputs": [
                {
                    "name": "stdout",
                    "output_type": "stream",
                    "text": "Package                       Version\n----------------------------- --------------------\nabsl-py                       1.3.0\naiohttp                       3.8.3\naiosignal                     1.2.0\nalabaster                     0.7.12\nanaconda-client               1.11.0\nanaconda-navigator            2.3.2\nanaconda-project              0.11.1\nansi2html                     1.8.0\nanyio                         3.5.0\nappdirs                       1.4.4\nargon2-cffi                   21.3.0\nargon2-cffi-bindings          21.2.0\narrow                         1.2.2\nastroid                       2.11.7\nastropy                       5.1\nastunparse                    1.6.3\nasync-generator               1.10\nasync-timeout                 4.0.2\natomicwrites                  1.4.0\nattrs                         23.1.0\nAutomat                       20.2.0\nautopep8                      1.6.0\nBabel                         2.9.1\nbackcall                      0.2.0\nbackports.functools-lru-cache 1.6.4\nbackports.tempfile            1.0\nbackports.weakref             1.0.post1\nbcrypt                        3.2.0\nbeautifulsoup4                4.11.1\nbinaryornot                   0.4.4\nbitarray                      2.5.1\nbkcharts                      0.2\nblack                         22.6.0\nbleach                        4.1.0\nblinker                       1.4\nbokeh                         2.4.3\nboto3                         1.24.28\nbotocore                      1.27.28\nBottleneck                    1.3.5\nBrotli                        1.0.9\nbrotlipy                      0.7.0\nbs4                           0.0.1\ncachetools                    4.2.2\ncertifi                       2022.12.7\ncffi                          1.15.1\nchardet                       4.0.0\ncharset-normalizer            2.0.4\nclick                         8.0.4\ncloudpickle                   2.0.0\nclyent                        1.2.2\ncolorama                      0.4.5\ncolorcet                      3.0.0\ncomtypes                      1.1.10\nconda                         22.11.1\nconda-build                   3.22.0\nconda-content-trust           0.1.3\nconda-pack                    0.6.0\nconda-package-handling        1.9.0\nconda-repo-cli                1.0.20\nconda-token                   0.4.0\nconda-verify                  3.4.2\nconstantly                    15.1.0\ncookiecutter                  1.7.3\ncryptography                  37.0.1\ncssselect                     1.1.0\ncycler                        0.11.0\nCython                        0.29.32\ncytoolz                       0.11.0\ndaal4py                       2021.6.0\ndash                          1.19.0\ndash-core-components          1.15.0\ndash-html-components          1.1.2\ndash-renderer                 1.9.0\ndash-table                    4.11.2\ndask                          2022.7.0\ndatashader                    0.14.1\ndatashape                     0.5.4\ndebugpy                       1.5.1\ndecorator                     5.1.1\ndefusedxml                    0.7.1\ndiff-match-patch              20200713\ndill                          0.3.4\ndistributed                   2022.7.0\ndocutils                      0.18.1\nentrypoints                   0.4\net-xmlfile                    1.1.0\nexceptiongroup                1.1.0\nfastjsonschema                2.16.3\nfilelock                      3.6.0\nflake8                        4.0.1\nFlask                         1.1.2\nFlask-Compress                1.13\nflatbuffers                   1.12\nfonttools                     4.25.0\nfrozenlist                    1.3.3\nfsspec                        2022.7.1\nfuture                        0.18.2\ngast                          0.4.0\ngensim                        4.1.2\nglob2                         0.7\ngoogle-auth                   2.6.0\ngoogle-auth-oauthlib          0.4.4\ngoogle-pasta                  0.2.0\ngreenlet                      1.1.1\ngrpcio                        1.42.0\nh11                           0.14.0\nh5py                          3.7.0\nHeapDict                      1.0.1\nholoviews                     1.15.0\nhtml5lib                      1.1\nhvplot                        0.8.0\nhyperlink                     21.0.0\nidna                          3.3\nimagecodecs                   2021.8.26\nimageio                       2.19.3\nimagesize                     1.4.1\nimportlib-metadata            4.11.3\nincremental                   21.3.0\ninflection                    0.5.1\niniconfig                     1.1.1\nintake                        0.6.5\nintervaltree                  3.1.0\nipykernel                     6.15.2\nipython                       7.31.1\nipython-genutils              0.2.0\nipywidgets                    7.6.5\nisort                         5.9.3\nitemadapter                   0.3.0\nitemloaders                   1.0.4\nitsdangerous                  2.0.1\njdcal                         1.4.1\njedi                          0.18.1\njellyfish                     0.9.0\nJinja2                        2.11.3\njinja2-time                   0.2.0\njmespath                      0.10.0\njoblib                        1.2.0\njson5                         0.9.6\njsonschema                    4.17.3\njupyter                       1.0.0\njupyter_client                7.3.4\njupyter-console               6.4.3\njupyter_core                  5.3.0\njupyter-dash                  0.4.2\njupyter-server                1.18.1\njupyterlab                    3.4.4\njupyterlab-pygments           0.1.2\njupyterlab-server             2.10.3\njupyterlab-widgets            1.0.0\nkeras                         2.9.0\nKeras-Preprocessing           1.1.2\nkeyring                       23.4.0\nkiwisolver                    1.4.2\nlazy-object-proxy             1.6.0\nlibarchive-c                  2.9\nlibclang                      16.0.0\nllvmlite                      0.38.0\nlocket                        1.0.0\nlxml                          4.9.2\nlz4                           3.1.3\nMarkdown                      3.3.4\nMarkupSafe                    2.0.1\nmatplotlib                    3.5.2\nmatplotlib-inline             0.1.6\nmccabe                        0.6.1\nmenuinst                      1.4.19\nmistune                       0.8.4\nmkl-fft                       1.3.1\nmkl-random                    1.2.2\nmkl-service                   2.4.0\nmock                          4.0.3\nmpmath                        1.2.1\nmsgpack                       1.0.3\nmultidict                     6.0.2\nmultipledispatch              0.6.0\nmultitasking                  0.0.11\nmunkres                       1.1.4\nmypy-extensions               0.4.3\nmysql-connector-python        8.0.32\nnavigator-updater             0.3.0\nnbclassic                     0.3.5\nnbclient                      0.5.13\nnbconvert                     6.4.4\nnbformat                      5.8.0\nnest-asyncio                  1.5.5\nnetworkx                      2.8.4\nnltk                          3.7\nnose                          1.3.7\nnotebook                      6.4.12\nnumba                         0.55.1\nnumexpr                       2.8.3\nnumpy                         1.21.5\nnumpydoc                      1.4.0\noauthlib                      3.2.1\nolefile                       0.46\nopencv-python                 4.7.0.72\nopenpyxl                      3.0.10\nopt-einsum                    3.3.0\noutcome                       1.2.0\npackaging                     21.3\npandas                        2.0.1\npandocfilters                 1.5.0\npanel                         0.13.1\nparam                         1.12.0\nparamiko                      2.8.1\nparsel                        1.6.0\nparso                         0.8.3\npartd                         1.2.0\npathlib                       1.0.1\npathspec                      0.9.0\npatsy                         0.5.2\npep8                          1.7.1\npexpect                       4.8.0\npickleshare                   0.7.5\nPillow                        9.2.0\npip                           22.2.2\npkginfo                       1.8.2\nplatformdirs                  3.3.0\nplotly                        5.14.1\npluggy                        1.0.0\npoyo                          0.5.0\nprometheus-client             0.14.1\nprompt-toolkit                3.0.20\nProtego                       0.1.16\nprotobuf                      3.19.6\npsutil                        5.9.0\nptyprocess                    0.7.0\npy                            1.11.0\npyasn1                        0.4.8\npyasn1-modules                0.2.8\npybase64                      1.2.3\npycodestyle                   2.8.0\npycosat                       0.6.3\npycparser                     2.21\npyct                          0.4.8\npycurl                        7.45.1\nPyDispatcher                  2.0.5\npydocstyle                    6.1.1\npyerfa                        2.0.0\npyflakes                      2.4.0\nPygments                      2.11.2\nPyHamcrest                    2.0.2\nPyJWT                         2.4.0\npylint                        2.14.5\npyls-spyder                   0.4.0\nPyNaCl                        1.5.0\npyodbc                        4.0.34\npyOpenSSL                     22.0.0\npyparsing                     3.0.9\npyrsistent                    0.19.3\nPySocks                       1.7.1\npytest                        7.1.2\npython-dateutil               2.8.2\npython-dotenv                 1.0.0\npython-lsp-black              1.0.0\npython-lsp-jsonrpc            1.0.0\npython-lsp-server             1.3.3\npython-slugify                5.0.2\npython-snappy                 0.6.0\npytz                          2023.3\npyviz-comms                   2.0.2\nPyWavelets                    1.3.0\npywin32                       306\npywin32-ctypes                0.2.0\npywinpty                      2.0.2\nPyYAML                        6.0\npyzmq                         23.2.0\nQDarkStyle                    3.0.2\nqstylizer                     0.1.10\nQtAwesome                     1.0.3\nqtconsole                     5.2.2\nQtPy                          2.2.0\nqueuelib                      1.5.0\nregex                         2022.7.9\nrequests                      2.26.0\nrequests-file                 1.5.1\nrequests-oauthlib             1.3.0\nretrying                      1.3.4\nrope                          0.22.0\nrsa                           4.7.2\nRtree                         0.9.7\nruamel.yaml                   0.17.21\nruamel.yaml.clib              0.2.6\nruamel-yaml-conda             0.15.100\ns3transfer                    0.6.0\nscikit-image                  0.19.2\nscikit-learn                  1.2.2\nscikit-learn-intelex          2021.20221004.171935\nscipy                         1.7.3\nScrapy                        2.6.2\nseaborn                       0.11.2\nselenium                      4.8.2\nSend2Trash                    1.8.0\nservice-identity              18.1.0\nsetuptools                    63.4.1\nsip                           4.19.13\nsix                           1.16.0\nsmart-open                    5.2.1\nsniffio                       1.2.0\nsnowballstemmer               2.2.0\nsortedcollections             2.1.0\nsortedcontainers              2.4.0\nsoupsieve                     2.3.1\nSphinx                        5.0.2\nsphinxcontrib-applehelp       1.0.2\nsphinxcontrib-devhelp         1.0.2\nsphinxcontrib-htmlhelp        2.0.0\nsphinxcontrib-jsmath          1.0.1\nsphinxcontrib-qthelp          1.0.3\nsphinxcontrib-serializinghtml 1.1.5\nspyder                        5.2.2\nspyder-kernels                2.2.1\nSQLAlchemy                    1.4.39\nstatsmodels                   0.13.2\nsympy                         1.10.1\ntables                        3.6.1\ntabulate                      0.8.10\nTBB                           0.2\ntblib                         1.7.0\ntenacity                      8.0.1\ntensorboard                   2.9.0\ntensorboard-data-server       0.6.1\ntensorboard-plugin-wit        1.8.1\ntensorflow                    2.9.1\ntensorflow-estimator          2.9.0\ntensorflow-io-gcs-filesystem  0.31.0\ntermcolor                     2.1.0\nterminado                     0.13.1\ntestpath                      0.6.0\ntext-unidecode                1.3\ntextdistance                  4.2.1\nthreadpoolctl                 2.2.0\nthree-merge                   0.1.1\ntifffile                      2021.7.2\ntinycss                       0.4\ntldextract                    3.2.0\ntoml                          0.10.2\ntomli                         2.0.1\ntomlkit                       0.11.1\ntoolz                         0.11.2\ntornado                       6.1\ntqdm                          4.64.1\ntraitlets                     5.9.0\ntrio                          0.22.0\ntrio-websocket                0.9.2\nTwisted                       22.2.0\ntwisted-iocpsupport           1.0.2\ntyping_extensions             4.3.0\ntzdata                        2023.3\nujson                         5.4.0\nUnidecode                     1.2.0\nurllib3                       1.26.11\nw3lib                         1.21.0\nwatchdog                      2.1.6\nwcwidth                       0.2.5\nwebdriver-manager             3.8.5\nwebencodings                  0.5.1\nwebsocket-client              0.58.0\nWerkzeug                      2.0.3\nwheel                         0.37.1\nwidgetsnbextension            3.5.2\nwin-inet-pton                 1.1.0\nwin-unicode-console           0.5\nwincertstore                  0.2\nword2number                   1.1\nwrapt                         1.14.1\nwsproto                       1.2.0\nxarray                        0.20.1\nxlrd                          2.0.1\nXlsxWriter                    3.0.3\nxlwings                       0.27.15\nyapf                          0.31.0\nyarl                          1.8.1\nyfinance                      0.1.67\nzict                          2.1.0\nzipp                          3.8.0\nzope.interface                5.4.0\n"
                }
            ],
            "source": "!pip list"
        },
        {
            "cell_type": "code",
            "execution_count": 25,
            "id": "4b277acc",
            "metadata": {},
            "outputs": [],
            "source": "# notebook hangs if I run the following command \n#JupyterDash.infer_jupyter_proxy_config()"
        },
        {
            "cell_type": "code",
            "execution_count": 26,
            "id": "6c4f1930",
            "metadata": {},
            "outputs": [],
            "source": "# needs to be run again in a separate cell due to a jupyterdash bug\n#JupyterDash.infer_jupyter_proxy_config()"
        },
        {
            "cell_type": "code",
            "execution_count": 27,
            "id": "b3faa0e3",
            "metadata": {},
            "outputs": [],
            "source": "spacex_df = pd.read_csv('https://cf-courses-data.s3.us.cloud-object-storage.appdomain.cloud/IBM-DS0321EN-SkillsNetwork/datasets/spacex_launch_dash.csv')"
        },
        {
            "cell_type": "code",
            "execution_count": 28,
            "id": "c8cd4643",
            "metadata": {},
            "outputs": [],
            "source": "# skeleton Dash app to be completed in this lab, downloaded from:\n# https://cf-courses-data.s3.us.cloud-object-storage.appdomain.cloud/IBM-DS0321EN-SkillsNetwork/labs/module_3/spacex_dash_app.py\n# redundant lines commented out\n\n# Import required libraries\n# import pandas as pd\n# import dash\n# import dash_html_components as html\n# import dash_core_components as dcc\n# from dash.dependencies import Input, Output"
        },
        {
            "cell_type": "code",
            "execution_count": 29,
            "id": "d4c06a2a",
            "metadata": {},
            "outputs": [],
            "source": "# Read the airline data into pandas dataframe\n# spacex_df = pd.read_csv(\"spacex_launch_dash.csv\")\nmax_payload = spacex_df['Payload Mass (kg)'].max()\nmin_payload = spacex_df['Payload Mass (kg)'].min()\n\n# Create a dash application\n# app = dash.Dash(__name__) # commented out as we are using JupyterDash instead of dash.Dash\napp = JupyterDash(__name__)"
        },
        {
            "cell_type": "code",
            "execution_count": 30,
            "id": "4194faff",
            "metadata": {},
            "outputs": [
                {
                    "data": {
                        "text/html": "\n        <iframe\n            width=\"100%\"\n            height=\"650\"\n            src=\"http://localhost:8050/\"\n            frameborder=\"0\"\n            allowfullscreen\n            \n        ></iframe>\n        ",
                        "text/plain": "<IPython.lib.display.IFrame at 0x276b05b96a0>"
                    },
                    "metadata": {},
                    "output_type": "display_data"
                }
            ],
            "source": "app.layout = html.Div(children=[html.H1(\n                                       'SpaceX Launch Records Dashboard', \n                                        style={'textAlign': 'center', \n                                               'color': '#503D36', \n                                               'font-size': 40\n                                              }\n                                       ),\n                                dcc.Dropdown(id='site-dropdown',\n                                             options=[\n                                                     {'label': 'All Sites',    'value': 'ALL'},\n                                                     {'label': 'CCAFS LC-40',  'value': 'CCAFS LC-40'},\n                                                     {'label': 'VAFB SLC-4E',  'value': 'VAFB SLC-4E'},\n                                                     {'label': 'KSC LC-39A',   'value': 'KSC LC-39A'},\n                                                     {'label': 'CCAFS SLC-40', 'value': 'CCAFS SLC-40'}\n                                                     ],\n                                             value='ALL',\n                                             placeholder='Select a Launch Site here',\n                                             searchable=True\n                                             # style={'width':'80%','padding':'3px','font-size':'20px','text-align-last':'center'}\n                                             ),\n                                html.Br(),\n                                # TASK 2: Add a pie chart to show the total successful launches count for all sites\n                                # If a specific launch site was selected, show the Success vs. Failed counts for the\n                                html.Div(dcc.Graph(id='success-pie-chart')),\n                                html.Br(),\n\n                                html.P(\"Payload range (Kg):\"),\n                                # TASK 3: Add a slider to select payload range\n                                #dcc.RangeSlider(id='payload-slider',...)\n                                dcc.RangeSlider(id='payload-slider',\n                                                min=0,\n                                                max=10000,\n                                                step=1000,\n                                                value=[min_payload, max_payload]\n                                                ),\n\n                                # TASK 4: Add a scatter chart to show the correlation between payload and launch success\n                                html.Div(dcc.Graph(id='success-payload-scatter-chart')),\n                                ])\n# TASK 2:\n# Add a callback function for `site-dropdown` as input, `success-pie-chart` as output\n@app.callback(Output(component_id='success-pie-chart', component_property='figure'),\n              Input(component_id='site-dropdown', component_property='value'))\ndef get_pie_chart(entered_site):\n    filtered_df = spacex_df\n    if entered_site == 'ALL':\n        fig = px.pie(filtered_df, values='class', \n        names='Launch Site', \n        title='Success Count for all launch sites')\n        return fig\n    else:\n        # return the outcomes piechart for a selected site\n        filtered_df=spacex_df[spacex_df['Launch Site']== entered_site]\n        filtered_df=filtered_df.groupby(['Launch Site','class']).size().reset_index(name='class count')\n        fig=px.pie(filtered_df,values='class count',names='class',title=f\"Total Success Launches for site {entered_site}\")\n        return fig\n    \n    \n    \n    \n# TASK 4:\n# Add a callback function for `site-dropdown` and `payload-slider` as inputs, `success-payload-scatter-chart` as output\n@app.callback(Output(component_id='success-payload-scatter-chart',component_property='figure'),\n                [Input(component_id='site-dropdown',component_property='value'),\n                Input(component_id='payload-slider',component_property='value')])\ndef scatter(entered_site,payload):\n    filtered_df = spacex_df[spacex_df['Payload Mass (kg)'].between(payload[0],payload[1])]\n    # thought reusing filtered_df may cause issues, but tried it out of curiosity and it seems to be working fine\n    \n    if entered_site=='ALL':\n        fig=px.scatter(filtered_df,x='Payload Mass (kg)',y='class',color='Booster Version Category',title='Success count on Payload mass for all sites')\n        return fig\n    else:\n        fig=px.scatter(filtered_df[filtered_df['Launch Site']==entered_site],x='Payload Mass (kg)',y='class',color='Booster Version Category',title=f\"Success count on Payload mass for site {entered_site}\")\n        return fig\n\n# Run the app\nif __name__ == '__main__':\n    app.run_server(mode='inline', host='localhost')\n"
        },
        {
            "cell_type": "code",
            "execution_count": null,
            "id": "804cf398",
            "metadata": {},
            "outputs": [],
            "source": ""
        },
        {
            "cell_type": "code",
            "execution_count": null,
            "id": "8f36c2cc",
            "metadata": {},
            "outputs": [],
            "source": ""
        },
        {
            "cell_type": "code",
            "execution_count": null,
            "id": "ff10bd11",
            "metadata": {},
            "outputs": [],
            "source": ""
        },
        {
            "cell_type": "code",
            "execution_count": null,
            "id": "f2e02849",
            "metadata": {},
            "outputs": [],
            "source": ""
        },
        {
            "cell_type": "code",
            "execution_count": null,
            "id": "0dad2967",
            "metadata": {},
            "outputs": [],
            "source": ""
        },
        {
            "cell_type": "code",
            "execution_count": null,
            "id": "9dff8a0b",
            "metadata": {},
            "outputs": [],
            "source": ""
        },
        {
            "cell_type": "code",
            "execution_count": null,
            "id": "c2f10e32",
            "metadata": {},
            "outputs": [],
            "source": ""
        },
        {
            "cell_type": "code",
            "execution_count": null,
            "id": "8b09e527",
            "metadata": {},
            "outputs": [],
            "source": ""
        },
        {
            "cell_type": "code",
            "execution_count": null,
            "id": "c9bc4ab9",
            "metadata": {},
            "outputs": [],
            "source": ""
        },
        {
            "cell_type": "code",
            "execution_count": null,
            "id": "ee8e90a1",
            "metadata": {},
            "outputs": [],
            "source": ""
        },
        {
            "cell_type": "code",
            "execution_count": null,
            "id": "a8d8f85a",
            "metadata": {},
            "outputs": [],
            "source": ""
        }
    ],
    "metadata": {
        "kernelspec": {
            "display_name": "Python 3.10",
            "language": "python",
            "name": "python3"
        },
        "language_info": {
            "codemirror_mode": {
                "name": "ipython",
                "version": 3
            },
            "file_extension": ".py",
            "mimetype": "text/x-python",
            "name": "python",
            "nbconvert_exporter": "python",
            "pygments_lexer": "ipython3",
            "version": "3.10.9"
        }
    },
    "nbformat": 4,
    "nbformat_minor": 5
}